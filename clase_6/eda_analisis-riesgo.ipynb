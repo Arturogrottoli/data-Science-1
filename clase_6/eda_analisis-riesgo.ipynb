{
 "cells": [
  {
   "cell_type": "code",
   "execution_count": null,
   "id": "404538a8",
   "metadata": {},
   "outputs": [],
   "source": [
    "import os\n",
    "import pandas as pd\n",
    "from glob import glob\n",
    "\n",
    "import matplotlib.pyplot as plt"
   ]
  },
  {
   "cell_type": "code",
   "execution_count": null,
   "id": "07ac3417",
   "metadata": {},
   "outputs": [],
   "source": [
    "csv_files = glob(\"./storage/acciones/*.csv\")"
   ]
  },
  {
   "cell_type": "code",
   "execution_count": null,
   "id": "935c5067",
   "metadata": {},
   "outputs": [],
   "source": [
    "matched_file_names = {os.path.basename(file).replace(\".csv\",\"\"): file for file in csv_files}\n",
    "matched_file_names"
   ]
  },
  {
   "cell_type": "markdown",
   "id": "43659726",
   "metadata": {},
   "source": [
    "## Mapeo de valores para agregado a los valores de las acciones"
   ]
  },
  {
   "cell_type": "code",
   "execution_count": null,
   "id": "7b482f7a",
   "metadata": {},
   "outputs": [],
   "source": [
    "symbols_map = {\n",
    "    \"D\": \"Dominion Energy Inc.\",\n",
    "    \"EXC\": \"Exelon Corp.\",\n",
    "    \"NEE\": \"NextEra Energy Inc.\",\n",
    "    \"SO\": \"Southern Co.\",\n",
    "    \"DUK\": \"Duke Energy Corp.\"\n",
    "}"
   ]
  },
  {
   "cell_type": "code",
   "execution_count": null,
   "id": "ec40faa1",
   "metadata": {},
   "outputs": [],
   "source": [
    "final_dataframe = []\n",
    "\n",
    "for symbol_name, path_csv in matched_file_names.items():\n",
    "    df = pd.read_csv(path_csv, sep=\",\")\n",
    "    df[\"name\"] = symbols_map[symbol_name]\n",
    "    final_dataframe.append(df)\n",
    "\n",
    "final_dataframe = pd.concat(final_dataframe).reset_index()"
   ]
  },
  {
   "cell_type": "code",
   "execution_count": null,
   "id": "75b151b6",
   "metadata": {},
   "outputs": [],
   "source": [
    "final_dataframe.sample(10)"
   ]
  },
  {
   "cell_type": "code",
   "execution_count": null,
   "id": "cdd6823a",
   "metadata": {},
   "outputs": [],
   "source": [
    "# otra forma que yo recomiendo es entendiendo lo que hace los list comprehensions\n",
    "# dfs = [\n",
    "#     pd.read_csv(path_csv, sep=\",\").assign(name=symbols_map[symbol_name])\n",
    "#     for symbol_name, path_csv in matched_file_names.items()\n",
    "# ]\n",
    "\n",
    "# final_dataframe = pd.concat(dfs, ignore_index=True)  "
   ]
  },
  {
   "cell_type": "code",
   "execution_count": null,
   "id": "6f6da776",
   "metadata": {},
   "outputs": [],
   "source": [
    "# final_dataframe.sample(10)"
   ]
  },
  {
   "cell_type": "markdown",
   "id": "9a4c6319",
   "metadata": {},
   "source": [
    "## Solución Completa: Cálculo de Volatilidad y Retorno + Gráficos\n",
    "\n",
    "- Calcular la volatilidad relativa ((High - Low) / Open)\n",
    "- Calcular el retorno ((Close / Open) - 1)\n",
    "- Graficar ambas métricas para comparar acciones.\n",
    "- Identificar la mejor inversión (balance entre alto retorno y baja volatilidad)."
   ]
  },
  {
   "cell_type": "code",
   "execution_count": null,
   "id": "0478db63",
   "metadata": {},
   "outputs": [],
   "source": [
    "# Calculamos volatilidad y retorno\n",
    "# volatilidad relativa ->  indicador de volatilidad que mide la variación de los precios de un activo financiero en un periodo de tiempo, usando la desviación estándar de los precios\n",
    "final_dataframe[\"volatilidad_relativa\"] = (final_dataframe[\"High\"] - final_dataframe[\"Low\"]) / final_dataframe[\"Open\"]\n",
    "\n",
    "# Retorno -> \n",
    "final_dataframe[\"retorno\"] = (final_dataframe[\"Close\"] / final_dataframe[\"Open\"]) - 1\n",
    "\n",
    "# Agrupamos por acción (name) y calculamos el promedio\n",
    "metricas_por_accion = final_dataframe.groupby(\"name\").agg({\n",
    "    \"volatilidad_relativa\": \"mean\",\n",
    "    \"retorno\": \"mean\"\n",
    "}).reset_index()\n",
    "\n",
    "print(metricas_por_accion)"
   ]
  },
  {
   "cell_type": "markdown",
   "id": "90491d68",
   "metadata": {},
   "source": [
    "## Graficos comparativos\n",
    "### Volatilidad vs Retorno"
   ]
  },
  {
   "cell_type": "code",
   "execution_count": null,
   "id": "f209b4b3",
   "metadata": {},
   "outputs": [],
   "source": [
    "import matplotlib.pyplot as plt\n",
    "import seaborn as sns\n",
    "\n",
    "# Crear el scatterplot\n",
    "plt.figure(figsize=(10, 6))\n",
    "scatter = sns.scatterplot(\n",
    "    data=metricas_por_accion,\n",
    "    x=\"volatilidad_relativa\",\n",
    "    y=\"retorno\",\n",
    "    s=100,\n",
    "    alpha=0.7,\n",
    "    color=\"teal\"\n",
    ")\n",
    "\n",
    "# Etiquetas y título\n",
    "plt.xlabel(\"Volatilidad Relativa (Promedio)\")\n",
    "plt.ylabel(\"Retorno Promedio\")\n",
    "plt.title(\"Relación Volatilidad vs. Retorno por Acción\")\n",
    "\n",
    "# Agregar etiquetas con nombres\n",
    "for i, row in metricas_por_accion.iterrows():\n",
    "    plt.annotate(\n",
    "        row[\"name\"],\n",
    "        (row[\"volatilidad_relativa\"], row[\"retorno\"]),\n",
    "        textcoords=\"offset points\",\n",
    "        xytext=(5, 5),\n",
    "        ha='left',\n",
    "        fontsize=9\n",
    "    )\n",
    "\n",
    "plt.tight_layout()\n",
    "plt.grid(True)\n",
    "plt.show()\n"
   ]
  },
  {
   "cell_type": "code",
   "execution_count": null,
   "id": "92e31a00",
   "metadata": {},
   "outputs": [],
   "source": [
    "import matplotlib.pyplot as plt\n",
    "import seaborn as sns\n",
    "\n",
    "# Ordenar los datos por nombre\n",
    "df_ordenado = metricas_por_accion.sort_values(\"name\", ascending=False)\n",
    "\n",
    "# Crear figura con 2 subplots (uno encima del otro)\n",
    "fig, axes = plt.subplots(nrows=2, ncols=1, figsize=(12, 8), sharex=True)\n",
    "\n",
    "# Volatilidad relativa\n",
    "sns.barplot(\n",
    "    data=df_ordenado,\n",
    "    x=\"name\", y=\"volatilidad_relativa\",\n",
    "    color=\"orange\",\n",
    "    ax=axes[0]\n",
    ")\n",
    "axes[0].set_title(\"Volatilidad Relativa por Acción\")\n",
    "axes[0].set_ylabel(\"Volatilidad\")\n",
    "axes[0].tick_params(axis='x', rotation=45)\n",
    "\n",
    "# Retorno promedio\n",
    "sns.barplot(\n",
    "    data=df_ordenado,\n",
    "    x=\"name\", y=\"retorno\",\n",
    "    color=\"green\",\n",
    "    ax=axes[1]\n",
    ")\n",
    "axes[1].set_title(\"Retorno Promedio por Acción\")\n",
    "axes[1].set_ylabel(\"Retorno\")\n",
    "axes[1].tick_params(axis='x', rotation=45)\n",
    "\n",
    "plt.tight_layout()\n",
    "plt.show()\n"
   ]
  },
  {
   "cell_type": "markdown",
   "id": "2ecd7da8",
   "metadata": {},
   "source": [
    "### **Volatilidad Relativa vs. Retorno: Explicación Simple**\n",
    "#### _Un poquito de data contextual_\n",
    "#### **1. Volatilidad Relativa**  \n",
    "- **Definición**: Mide la variación porcentual entre el precio más alto (`High`) y más bajo (`Low`) de una acción en un día (o período), **normalizada por el precio de apertura** (`Open`).  \n",
    "\n",
    "- **Interpretación**:  \n",
    "  - **Valor alto** (ej: `0.05` o 5%): La acción tuvo mucha oscilación intraday (riesgo alto).  \n",
    "  - **Valor bajo** (ej: `0.01` o 1%): La acción se mantuvo estable (riesgo bajo).  \n",
    "- **Ejemplo**:  \n",
    "  - Si `Open = 100`, `High = 105`, `Low = 102`:  \n",
    "\n",
    "#### **2. Retorno**  \n",
    "- **Definición**: Ganancia o pérdida porcentual de una acción desde la apertura (`Open`) hasta el cierre (`Close`).  \n",
    "- **Interpretación**:  \n",
    "  - **Positivo**: La acción subió (ej: `0.02` = +2%).  \n",
    "  - **Negativo**: La acción bajó (ej: `-0.01` = -1%).  \n",
    "- **Ejemplo**:  \n",
    "  - Si `Open = 100` y `Close = 108`:  \n",
    "---\n",
    "\n",
    "### **¿Por qué son importantes?**  \n",
    "- **Volatilidad Relativa**:  \n",
    "  - Indica **riesgo**: Una acción con alta volatilidad puede generar grandes ganancias o pérdidas.  \n",
    "  - Útil para traders que operan en corto plazo (ej: compran en `Low` y venden en `High`).  \n",
    "\n",
    "- **Retorno**:  \n",
    "  - Mide **rentabilidad**: Cuánto ganó un inversor que compró en `Open` y vendió en `Close`.  \n",
    "  - Clave para inversores a largo plazo.  \n",
    "\n",
    "---\n",
    "\n",
    "### **Ejemplo Gráfico**  \n",
    "Imagina estos datos para 3 acciones:  \n",
    "\n",
    "| Acción | Volatilidad Relativa | Retorno |\n",
    "|--------|----------------------|---------|\n",
    "| **A**  | 4%                   | +5%     |\n",
    "| **B**  | 1%                   | +2%     |\n",
    "| **C**  | 8%                   | -3%     |\n",
    "\n",
    "- **Mejor inversión**: Depende de tu perfil:  \n",
    "  - **Conservador**: Elegirías **B** (baja volatilidad y retorno positivo).  \n",
    "  - **Arriesgado**: Podrías considerar **A** (mayor retorno, pero más riesgo).  \n",
    "  - **Evitarías**: **C** (pérdidas y alta volatilidad).  \n",
    "\n",
    "---\n",
    "\n",
    "### **Relación entre Ambos**  \n",
    "- Generalmente, a mayor volatilidad, **mayor posibilidad de retornos altos** (pero también de pérdidas).  \n",
    "- Una buena inversión suele buscar **alto retorno con baja volatilidad** (ej: acciones estables pero con crecimiento constante).  \n",
    "\n"
   ]
  },
  {
   "cell_type": "code",
   "execution_count": null,
   "id": "c95be594",
   "metadata": {},
   "outputs": [],
   "source": [
    "metricas_por_accion[\"ratio_retorno_volatilidad\"] = metricas_por_accion[\"retorno\"] / metricas_por_accion[\"volatilidad_relativa\"]\n",
    "mejor_inversion = metricas_por_accion.sort_values(\"ratio_retorno_volatilidad\", ascending=False).iloc[0]\n",
    "\n",
    "print(f\"\\nMejor inversión: {mejor_inversion['name']}\")\n",
    "print(f\"Retorno: {mejor_inversion['retorno']:.2%}\")\n",
    "print(f\"Volatilidad: {mejor_inversion['volatilidad_relativa']:.2%}\")"
   ]
  }
 ],
 "metadata": {
  "kernelspec": {
   "display_name": "Python 3",
   "language": "python",
   "name": "python3"
  },
  "language_info": {
   "codemirror_mode": {
    "name": "ipython",
    "version": 3
   },
   "file_extension": ".py",
   "mimetype": "text/x-python",
   "name": "python",
   "nbconvert_exporter": "python",
   "pygments_lexer": "ipython3",
   "version": "3.13.3"
  }
 },
 "nbformat": 4,
 "nbformat_minor": 5
}
