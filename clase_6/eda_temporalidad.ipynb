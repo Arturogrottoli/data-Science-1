{
 "cells": [
  {
   "cell_type": "markdown",
   "id": "771cbd8c",
   "metadata": {},
   "source": [
    "# Clase sobre estadistica para DataScience\n",
    "### Temporalidad"
   ]
  },
  {
   "cell_type": "code",
   "execution_count": null,
   "id": "3dcce7a0",
   "metadata": {},
   "outputs": [],
   "source": [
    "import numpy as np\n",
    "import pandas as pd\n",
    "import matplotlib.pyplot as plt"
   ]
  },
  {
   "cell_type": "code",
   "execution_count": null,
   "id": "f15e1177",
   "metadata": {},
   "outputs": [],
   "source": [
    "\n",
    "# Crear una serie temporal simulada con tendencia y estacionalidad\n",
    "np.random.seed(42)\n",
    "periodos = 120  # 10 años de datos mensuales\n",
    "tiempo = pd.date_range(start='2015-01', periods=periodos, freq='ME')\n",
    "\n",
    "# Componentes de la serie\n",
    "tendencia = np.linspace(10, 50, periodos)                          # crecimiento lineal\n",
    "estacionalidad = 10 * np.sin(2 * np.pi * tiempo.month / 12)       # estacionalidad anual\n",
    "ruido = np.random.normal(0, 2, periodos)                          # componente aleatoria\n",
    "\n",
    "# Serie final\n",
    "serie = tendencia + estacionalidad + ruido\n",
    "df = pd.DataFrame({'Fecha': tiempo, 'Valor': serie}).set_index('Fecha')\n",
    "\n",
    "# Graficar\n",
    "plt.figure(figsize=(12, 5))\n",
    "plt.plot(df.index, df['Valor'], label='Serie Temporal')\n",
    "plt.title('Ejemplo de Serie Temporal con Tendencia y Estacionalidad')\n",
    "plt.xlabel('Fecha')\n",
    "plt.ylabel('Valor')\n",
    "plt.grid(True)\n",
    "plt.legend()\n",
    "plt.tight_layout()\n",
    "plt.show()\n"
   ]
  },
  {
   "cell_type": "code",
   "execution_count": null,
   "id": "38457908",
   "metadata": {},
   "outputs": [],
   "source": [
    "df_trimestral = df.resample('QE').mean().sort_index()  # También puedes usar .sum(), .median(), etc.\n",
    "df_trimestral.head()"
   ]
  },
  {
   "cell_type": "code",
   "execution_count": null,
   "id": "96f4cfc8",
   "metadata": {},
   "outputs": [],
   "source": [
    "\n",
    "# Graficar la serie trimestral\n",
    "plt.figure(figsize=(12, 5))\n",
    "plt.plot(df_trimestral.index, df_trimestral['Valor'], marker='o', color='orange', label='Valor Trimestral (promedio)')\n",
    "plt.title('Serie Temporal Trimestral')\n",
    "plt.xlabel('Fecha')\n",
    "plt.ylabel('Valor Promedio Trimestral')\n",
    "plt.grid(True)\n",
    "plt.legend()\n",
    "plt.tight_layout()\n",
    "plt.show()\n"
   ]
  },
  {
   "cell_type": "code",
   "execution_count": null,
   "id": "cf933aae",
   "metadata": {},
   "outputs": [],
   "source": [
    "# Agregar columnas de año y trimestre\n",
    "df['Año'] = df.index.year\n",
    "df['Trimestre'] = df.index.quarter\n",
    "\n",
    "# Agrupar por año y trimestre y calcular estadísticas\n",
    "resumen_trimestral = df.groupby(['Año', 'Trimestre'])['Valor'].agg(['mean', 'std', 'min', 'max']).reset_index()\n",
    "\n",
    "print(resumen_trimestral.head())\n"
   ]
  },
  {
   "cell_type": "code",
   "execution_count": null,
   "id": "68e018c1",
   "metadata": {},
   "outputs": [],
   "source": [
    "import seaborn as sns\n",
    "import matplotlib.pyplot as plt\n",
    "\n",
    "# Paleta de 4 colores distintos de Seaborn\n",
    "colores = sns.color_palette('tab10', 4)\n",
    "\n",
    "fig, axes = plt.subplots(2, 2, figsize=(14, 10), sharex=True, sharey=True)\n",
    "\n",
    "for i, trimestre in enumerate(range(1, 5)):\n",
    "    ax = axes[i//2, i%2]\n",
    "    datos = df[df['Trimestre'] == trimestre]\n",
    "    \n",
    "    # Agrupar para el promedio anual dentro del trimestre\n",
    "    resumen = datos.groupby('Año')['Valor'].mean().reset_index()\n",
    "    \n",
    "    # Graficar con color distinto por trimestre\n",
    "    ax.plot(resumen['Año'], resumen['Valor'], marker='o', color=colores[i], label=f'Trimestre {trimestre}')\n",
    "    ax.set_title(f'Evolución Valor Promedio - Trimestre {trimestre}')\n",
    "    ax.set_xlabel('Año')\n",
    "    ax.set_ylabel('Valor Promedio')\n",
    "    ax.grid(True)\n",
    "    ax.legend()\n",
    "\n",
    "plt.tight_layout()\n",
    "plt.show()\n"
   ]
  },
  {
   "cell_type": "code",
   "execution_count": null,
   "id": "ee54bed3",
   "metadata": {},
   "outputs": [],
   "source": [
    "import seaborn as sns\n"
   ]
  },
  {
   "cell_type": "code",
   "execution_count": null,
   "id": "0d07b10f",
   "metadata": {},
   "outputs": [],
   "source": [
    "\n",
    "# Gráfico boxplot de valores por trimestre\n",
    "plt.figure(figsize=(10, 6))\n",
    "sns.boxplot(x='Trimestre', y='Valor', data=df)\n",
    "plt.title('Distribución Trimestral de la Serie')\n",
    "plt.xlabel('Trimestre')\n",
    "plt.ylabel('Valor')\n",
    "plt.grid(True)\n",
    "plt.tight_layout()\n",
    "plt.show()\n"
   ]
  },
  {
   "cell_type": "code",
   "execution_count": null,
   "id": "4e0f6b37",
   "metadata": {},
   "outputs": [],
   "source": [
    "plt.figure(figsize=(12, 6))\n",
    "for trimestre in range(1, 5):\n",
    "    datos = resumen_trimestral[resumen_trimestral['Trimestre'] == trimestre]\n",
    "    plt.plot(datos['Año'], datos['mean'], marker='o', label=f'Trimestre {trimestre}')\n",
    "\n",
    "plt.title('Evolución del Promedio por Trimestre')\n",
    "plt.xlabel('Año')\n",
    "plt.ylabel('Valor Promedio')\n",
    "plt.legend()\n",
    "plt.grid(True)\n",
    "plt.tight_layout()\n",
    "plt.show()\n"
   ]
  },
  {
   "cell_type": "markdown",
   "id": "6bbec7e0",
   "metadata": {},
   "source": [
    "### 1. **¿Hay trimestres que crecen más rápido?**\n",
    "\n",
    "Si mirás el gráfico de la evolución del promedio por trimestre (último gráfico), vas a ver una línea para cada trimestre a lo largo de los años.\n",
    "\n",
    "* Como la serie tiene una **tendencia lineal creciente** (de 10 a 50 en 10 años), todas las líneas deberían mostrar una tendencia creciente.\n",
    "* Sin embargo, algunos trimestres pueden tener una pendiente más pronunciada si la estacionalidad o el ruido afectan más en esos períodos.\n",
    "\n",
    "Dado que la estacionalidad es una sinusoide anual (12 meses), los trimestres que incluyen meses con mayor valor en la función seno tendrán promedios trimestrales más altos, pero la pendiente de crecimiento debe ser parecida entre todos.\n",
    "\n",
    "---\n",
    "\n",
    "### 2. **¿Hay trimestres sistemáticamente más altos o bajos (Estacionalidad)?**\n",
    "\n",
    "Sí, la estacionalidad anual definida como:\n",
    "\n",
    "```python\n",
    "estacionalidad = 10 * np.sin(2 * np.pi * tiempo.month / 12)\n",
    "```\n",
    "\n",
    "significa que ciertos meses del año tendrán valores más altos o bajos.\n",
    "\n",
    "* El trimestre que incluye los meses con mayor valor del seno tendrá promedios trimestrales más altos.\n",
    "* Por ejemplo, meses alrededor de marzo o septiembre tendrán picos o valles.\n",
    "\n",
    "En el boxplot de distribución trimestral, vas a ver que algunos trimestres tienen la mediana y rango de valores consistentemente más altos o bajos, lo que refleja esa estacionalidad.\n",
    "\n",
    "---\n",
    "\n",
    "### 3. **¿Qué tan volátil es cada trimestre (Variabilidad)?**\n",
    "\n",
    "En el boxplot podés observar la dispersión de los datos por trimestre:\n",
    "\n",
    "* Si un trimestre tiene cajas más anchas y bigotes más largos, indica mayor variabilidad (ruido o fluctuaciones mayores).\n",
    "* En esta simulación, el ruido es aleatorio con distribución normal y desviación estándar constante (±2), entonces la variabilidad debería ser similar entre trimestres.\n",
    "* Sin embargo, la combinación de tendencia y estacionalidad puede afectar ligeramente la variabilidad percibida.\n",
    "\n",
    "---\n",
    "\n",
    "### 4. **¿Hay anomalías o picos inesperados por trimestre?**\n",
    "\n",
    "* En esta serie simulada, el ruido es aleatorio pero con distribución normal, sin valores extremos muy marcados.\n",
    "* Por eso, es poco probable que haya anomalías o outliers claros.\n",
    "* En el boxplot, podés ver puntos atípicos si existen valores alejados del rango intercuartílico.\n",
    "\n",
    "---\n",
    "\n",
    "### Resumen:\n",
    "\n",
    "| Pregunta                          | Respuesta esperada en tu serie simulada                                        |\n",
    "| --------------------------------- | ------------------------------------------------------------------------------ |\n",
    "| Trimestres que crecen más rápido  | Todos crecen similarmente por la tendencia lineal, no hay grandes diferencias. |\n",
    "| Trimestres sistemáticamente altos | Sí, reflejan la estacionalidad definida (por meses dentro del trimestre).      |\n",
    "| Volatilidad de cada trimestre     | Similar entre trimestres debido a ruido con varianza constante.                |\n",
    "| Anomalías o picos inesperados     | No, la serie es simulada con ruido normal sin outliers fuertes.                |\n",
    "\n"
   ]
  }
 ],
 "metadata": {
  "kernelspec": {
   "display_name": "Python 3",
   "language": "python",
   "name": "python3"
  },
  "language_info": {
   "codemirror_mode": {
    "name": "ipython",
    "version": 3
   },
   "file_extension": ".py",
   "mimetype": "text/x-python",
   "name": "python",
   "nbconvert_exporter": "python",
   "pygments_lexer": "ipython3",
   "version": "3.11.2"
  }
 },
 "nbformat": 4,
 "nbformat_minor": 5
}
