{
  "cells": [
    {
      "cell_type": "markdown",
      "metadata": {
        "colab_type": "text",
        "id": "view-in-github"
      },
      "source": [
        "<a href=\"https://colab.research.google.com/github/Andru-1987/74235-_DataScience_I/blob/main/clase_4/ejercicio-practioco/clase_imputacion_arreglado_imputacion_knn.ipynb\" target=\"_parent\"><img src=\"https://colab.research.google.com/assets/colab-badge.svg\" alt=\"Open In Colab\"/></a>"
      ]
    },
    {
      "cell_type": "code",
      "execution_count": null,
      "metadata": {
        "id": "hSpByUBPDzDe"
      },
      "outputs": [],
      "source": [
        "import numpy as np\n",
        "import pandas as pd\n",
        "import matplotlib.pyplot as plt\n",
        "from sklearn.impute import KNNImputer\n",
        "from sklearn.preprocessing import LabelEncoder\n"
      ]
    },
    {
      "cell_type": "code",
      "execution_count": null,
      "metadata": {
        "id": "VR38XnOZAQwH"
      },
      "outputs": [],
      "source": [
        "URL_DATASET = \"https://raw.githubusercontent.com/jbrownlee/Datasets/master/pima-indians-diabetes.csv\""
      ]
    },
    {
      "cell_type": "code",
      "execution_count": null,
      "metadata": {
        "id": "6ZEb_EsgD6sR"
      },
      "outputs": [],
      "source": [
        "dataframe = pd.read_csv(URL_DATASET)"
      ]
    },
    {
      "cell_type": "code",
      "execution_count": null,
      "metadata": {
        "colab": {
          "base_uri": "https://localhost:8080/",
          "height": 424
        },
        "id": "n8el_oYLD_zg",
        "outputId": "962f87d1-0d06-449c-dc34-a03ac7eea60e"
      },
      "outputs": [],
      "source": [
        "dataframe"
      ]
    },
    {
      "cell_type": "code",
      "execution_count": null,
      "metadata": {
        "colab": {
          "base_uri": "https://localhost:8080/"
        },
        "id": "K9Ic35nXEG1D",
        "outputId": "ffbd910f-48a9-4a1e-cbee-e36d78fb7b2c"
      },
      "outputs": [],
      "source": [
        "dataframe.info()"
      ]
    },
    {
      "cell_type": "code",
      "execution_count": null,
      "metadata": {
        "id": "wZP1fv9eEVBg"
      },
      "outputs": [],
      "source": [
        "MARKET_STORE_URL = \"https://raw.githubusercontent.com/Andru-1987/csv_files_ds/refs/heads/main/market_data.csv\""
      ]
    },
    {
      "cell_type": "code",
      "execution_count": null,
      "metadata": {
        "id": "sxiA19zRFCYW"
      },
      "outputs": [],
      "source": [
        "class MarketStore:\n",
        "    def __init__(self, url):\n",
        "        self.url = url\n",
        "        self.dataframe = None\n",
        "        self.dataframe_imputed_knn = None\n",
        "\n",
        "    def get_dataframe(self):\n",
        "        self.dataframe = pd.read_csv(self.url)\n",
        "        return self.dataframe\n",
        "\n",
        "    def get_information(self):\n",
        "        print(\"\\nInformacion de los primeros registros\")\n",
        "        print(self.dataframe.head())\n",
        "        print(\"\\nInformacion sobre los datos  columnas y valores nulls\")\n",
        "        print(self.dataframe.info())\n",
        "        print(\"\\nInformacion estadistica de los datos\")\n",
        "        print(self.dataframe.describe().transpose())\n",
        "\n",
        "    def nullish_counting(self):\n",
        "        # return self.dataframe.isnull().sum()\n",
        "        total_rows= len(self.dataframe)\n",
        "        null_percentage = (self.dataframe.isnull().sum() / total_rows) * 100\n",
        "        null_percentage_sorted = null_percentage.sort_values(ascending=False)\n",
        "\n",
        "\n",
        "        plt.figure(figsize=(16, 9))\n",
        "        ax = null_percentage_sorted.plot(kind='bar', color=\"skyblue\")\n",
        "        ax.set_xlabel(\"Columnas\")\n",
        "        ax.set_ylabel(\"Porcentaje de valores nulos\")\n",
        "        ax.set_title(\"Porcentaje de valores nulos por columna\")\n",
        "        ax.set_xticklabels(ax.get_xticklabels(), rotation=45, ha='right')\n",
        "        plt.show()\n",
        "\n",
        "    def imputar_manual(self):\n",
        "\n",
        "        data_fullfilled = self.dataframe.copy()\n",
        "\n",
        "        for col in self.dataframe.select_dtypes(include=['object']).columns:\n",
        "            self.dataframe[col].fillna(self.dataframe[col].mode()[0], inplace=True)\n",
        "\n",
        "        for col in self.dataframe.select_dtypes(include=['number']).columns:\n",
        "            self.dataframe[col].fillna(self.dataframe[col].mean(), inplace=True)\n",
        "\n",
        "\n",
        "    def imputacion_knn_imputer(self, n_neighbors=4):\n",
        "        # Copia del dataset original\n",
        "        df_encoder = self.dataframe.copy()\n",
        "        encoders = {}\n",
        "\n",
        "        # Detectar columnas categóricas\n",
        "        category_columns = df_encoder.select_dtypes(include=['object', 'category']).columns\n",
        "\n",
        "        for col in category_columns:\n",
        "            print(f\"Se le aplicará el siguiente mapeo a la columna: {col}\")\n",
        "            le = LabelEncoder()\n",
        "            # hacer una mascara para evitar los valores no existen como nan values\n",
        "            # como datos categoricos\n",
        "            not_null_values = df_encoder[col].notnull()\n",
        "            df_encoder.loc[not_null_values, col] = le.fit_transform(df_encoder.loc[not_null_values, col]).astype(str)\n",
        "            df_encoder.loc[~not_null_values,col] = np.nan\n",
        "            encoders[col] = le\n",
        "\n",
        "        # Imputación con KNN\n",
        "        imputer = KNNImputer(n_neighbors=n_neighbors)\n",
        "        data_imputed = imputer.fit_transform(df_encoder)\n",
        "        self.dataframe_imputed_knn = pd.DataFrame(data_imputed, columns=df_encoder.columns)\n",
        "\n",
        "        # Decodificación\n",
        "        df_decoded = self.dataframe_imputed_knn.copy()\n",
        "        for col, le in encoders.items():\n",
        "            if col in df_decoded.columns:\n",
        "                print(f\"Se le aplicará el decoding para: {col}\")\n",
        "                df_decoded[col] = le.inverse_transform(df_decoded[col].astype(int))\n",
        "\n",
        "        self.dataframe_imputed_knn = df_decoded\n",
        "\n",
        "\n",
        "    def plot_distribution(self,columna):\n",
        "\n",
        "        if pd.api.types.is_numeric_dtype(self.dataframe[columna]):\n",
        "            plt.figure(figsize=(16, 9))\n",
        "            plt.subplot(1, 2, 1)\n",
        "            plt.boxplot(self.dataframe[columna])\n",
        "            plt.title(f'Boxplot de {columna}')\n",
        "\n",
        "            plt.subplot(1, 2, 2)\n",
        "            plt.hist(self.dataframe[columna], bins=20, edgecolor='k')\n",
        "            plt.title(f'Histograma de {columna}')\n",
        "            plt.tight_layout()\n",
        "            plt.show()\n",
        "        else:\n",
        "            plt.figure(figsize=(16, 9))\n",
        "            self.dataframe[columna].value_counts().plot(kind='bar')\n",
        "            plt.title(f'Frecuencia de {columna}')\n",
        "            plt.xlabel(columna)\n",
        "            plt.ylabel('Frecuencia')\n",
        "            plt.xticks(rotation=45)\n",
        "            plt.tight_layout()\n",
        "            plt.show()\n",
        "\n",
        "    def plot_distribution_knn(self,columna):\n",
        "\n",
        "        if pd.api.types.is_numeric_dtype(self.dataframe_imputed_knn[columna]):\n",
        "            plt.figure(figsize=(16, 9))\n",
        "            plt.subplot(1, 2, 1)\n",
        "            plt.boxplot(self.dataframe_imputed_knn[columna])\n",
        "            plt.title(f'Boxplot de {columna}')\n",
        "\n",
        "            plt.subplot(1, 2, 2)\n",
        "            plt.hist(self.dataframe_imputed_knn[columna], bins=20, edgecolor='k')\n",
        "            plt.title(f'Histograma de {columna}')\n",
        "            plt.tight_layout()\n",
        "            plt.show()\n",
        "        else:\n",
        "            plt.figure(figsize=(16, 9))\n",
        "            self.dataframe_imputed_knn[columna].value_counts().plot(kind='bar')\n",
        "            plt.title(f'Frecuencia de {columna}')\n",
        "            plt.xlabel(columna)\n",
        "            plt.ylabel('Frecuencia')\n",
        "            plt.xticks(rotation=45)\n",
        "            plt.tight_layout()\n",
        "            plt.show()\n",
        "\n"
      ]
    },
    {
      "cell_type": "code",
      "execution_count": null,
      "metadata": {
        "id": "8X9_IAe1GGSC"
      },
      "outputs": [],
      "source": [
        "market_store = MarketStore(MARKET_STORE_URL)\n"
      ]
    },
    {
      "cell_type": "code",
      "execution_count": null,
      "metadata": {
        "colab": {
          "base_uri": "https://localhost:8080/",
          "height": 617
        },
        "id": "DLTzCgQuGLL6",
        "outputId": "aa386299-f6cf-4da3-951e-904cf09447ed"
      },
      "outputs": [],
      "source": [
        "market_store.get_dataframe()"
      ]
    },
    {
      "cell_type": "code",
      "execution_count": null,
      "metadata": {
        "id": "VdjzZjSKGl_6"
      },
      "outputs": [],
      "source": [
        "# market_store.get_information()"
      ]
    },
    {
      "cell_type": "code",
      "execution_count": null,
      "metadata": {
        "id": "NLzN7t9rIfjz"
      },
      "outputs": [],
      "source": [
        "# market_store.nullish_counting()"
      ]
    },
    {
      "cell_type": "code",
      "execution_count": null,
      "metadata": {
        "id": "K4GnhSzNLDfo"
      },
      "outputs": [],
      "source": [
        "# market_store.dataframe.Outlet_Size.value_counts()\n",
        "# market_store.imputar_manual()"
      ]
    },
    {
      "cell_type": "code",
      "execution_count": null,
      "metadata": {
        "id": "VQ0dp8ZjNs46"
      },
      "outputs": [],
      "source": []
    },
    {
      "cell_type": "code",
      "execution_count": null,
      "metadata": {
        "id": "mVnTt3swMJL8"
      },
      "outputs": [],
      "source": [
        "# market_store.nullish_counting()"
      ]
    },
    {
      "cell_type": "code",
      "execution_count": null,
      "metadata": {
        "id": "9ZyQ49e0RyLI"
      },
      "outputs": [],
      "source": [
        "# market_store.plot_distribution(\"Outlet_Size\")\n",
        "# market_store.plot_distribution(\"Item_Weight\")"
      ]
    },
    {
      "cell_type": "code",
      "execution_count": null,
      "metadata": {
        "colab": {
          "base_uri": "https://localhost:8080/"
        },
        "id": "lCt1bZB6VTXH",
        "outputId": "31ccd956-2095-4c75-aced-7cc3d1ec55a0"
      },
      "outputs": [],
      "source": [
        "market_store.imputacion_knn_imputer(4)"
      ]
    },
    {
      "cell_type": "code",
      "execution_count": null,
      "metadata": {
        "colab": {
          "base_uri": "https://localhost:8080/",
          "height": 1000
        },
        "id": "ho2hVReAXNHr",
        "outputId": "04d3f257-3912-45f4-85b3-72aac548d7a2"
      },
      "outputs": [],
      "source": [
        "# Ahora como podremos observar los valores por medio del KnnImputer son muchos mas uniformes\n",
        "# entregandonos una forma mas adecuada de imputar los datos\n",
        "\n",
        "market_store.plot_distribution_knn(\"Outlet_Size\")\n",
        "market_store.plot_distribution_knn(\"Item_Weight\")\n"
      ]
    }
  ],
  "metadata": {
    "colab": {
      "authorship_tag": "ABX9TyPMZFG4jtgif/fIsIOfcdup",
      "include_colab_link": true,
      "provenance": []
    },
    "kernelspec": {
      "display_name": "Python 3",
      "name": "python3"
    },
    "language_info": {
      "name": "python"
    }
  },
  "nbformat": 4,
  "nbformat_minor": 0
}
