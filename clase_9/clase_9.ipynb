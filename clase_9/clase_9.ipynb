{
  "nbformat": 4,
  "nbformat_minor": 0,
  "metadata": {
    "colab": {
      "provenance": [],
      "gpuType": "T4",
      "authorship_tag": "ABX9TyPJ0+4sgvZB8r0WFcEQhsrG",
      "include_colab_link": true
    },
    "kernelspec": {
      "name": "python3",
      "display_name": "Python 3"
    },
    "language_info": {
      "name": "python"
    },
    "accelerator": "GPU"
  },
  "cells": [
    {
      "cell_type": "markdown",
      "metadata": {
        "id": "view-in-github",
        "colab_type": "text"
      },
      "source": [
        "<a href=\"https://colab.research.google.com/github/Andru-1987/74235-_DataScience_I/blob/main/clase_9/clase_9.ipynb\" target=\"_parent\"><img src=\"https://colab.research.google.com/assets/colab-badge.svg\" alt=\"Open In Colab\"/></a>"
      ]
    },
    {
      "cell_type": "markdown",
      "source": [
        "## Asistentes de voces\n",
        "* `pyttsx3`: is suitable for offline applications or when you need quick, local speech synthesis.\n",
        "* `gTTS`: is ideal when you need high-quality, natural-sounding voices and have an internet connection."
      ],
      "metadata": {
        "id": "gRGpl2fwMBYt"
      }
    },
    {
      "cell_type": "code",
      "source": [
        "!pip install pyttsx3 gTTS beautifulsoup4 requests pillow pytesseract playsound"
      ],
      "metadata": {
        "id": "Eq2k8vGVOccI"
      },
      "execution_count": null,
      "outputs": []
    },
    {
      "cell_type": "code",
      "source": [
        "import pyttsx3\n",
        "import pytesseract\n",
        "import requests\n",
        "from gtts import gTTS\n",
        "from PIL import Image\n",
        "from bs4 import BeautifulSoup\n",
        "import pygame\n",
        "import io\n",
        "import os\n",
        "from abc import ABC, abstractmethod\n",
        "from typing import Optional, Protocol\n",
        "\n",
        "\n",
        "from IPython.display import Audio, display\n"
      ],
      "metadata": {
        "id": "LghedaGkNsHm"
      },
      "execution_count": null,
      "outputs": []
    },
    {
      "cell_type": "code",
      "source": [
        "# Interfaces/Protocolos para inyección de dependencias\n",
        "class TextToSpeechInterface(Protocol):\n",
        "    \"\"\"Interfaz para servicios de texto a voz\"\"\"\n",
        "    def speak(self, text: str) -> None:\n",
        "        \"\"\"Texto a voz\"\"\"\n",
        "        ...\n",
        "\n",
        "class OCRInterface(Protocol):\n",
        "    \"\"\"Interfaz para servicios de OCR\"\"\"\n",
        "    def extract_text(self, image_path: str) -> str:\n",
        "        \"\"\"Texto a imagen\"\"\"\n",
        "        ...\n",
        "\n",
        "class WebScrapingInterface(Protocol):\n",
        "    \"\"\"Interfaz para servicios de web scraping\"\"\"\n",
        "    def extract_content(self, url: str) -> str:\n",
        "        \"\"\"Toma contenido web\"\"\"\n",
        "        ...\n"
      ],
      "metadata": {
        "id": "XRziYoAkOp4b"
      },
      "execution_count": null,
      "outputs": []
    },
    {
      "cell_type": "code",
      "source": [
        "import sys\n",
        "import io\n",
        "from gtts import gTTS\n",
        "from IPython.display import Audio, display\n",
        "\n",
        "class PyttxGTTSTextToSpeech:\n",
        "    \"\"\"\n",
        "    Implementación compatible con Google Colab.\n",
        "    Si se detecta que está en Colab, usa gTTS + Audio de IPython.\n",
        "    Si está en entorno local, intenta usar pyttsx3 (si está disponible).\n",
        "    \"\"\"\n",
        "\n",
        "    def __init__(self, rate: int = 150, voice_index: int = 0, language: str = 'es'):\n",
        "        self.language = language\n",
        "        self.in_colab = 'google.colab' in sys.modules\n",
        "\n",
        "        if not self.in_colab:\n",
        "            try:\n",
        "                import pyttsx3\n",
        "                self.engine = pyttsx3.init()\n",
        "                self.engine.setProperty(\"rate\", rate)\n",
        "\n",
        "                voices = self.engine.getProperty('voices')\n",
        "                if voices and len(voices) > voice_index:\n",
        "                    self.engine.setProperty('voice', voices[voice_index].id)\n",
        "            except Exception as e:\n",
        "                print(f\"No se pudo inicializar pyttsx3: {e}\")\n",
        "                self.engine = None\n",
        "\n",
        "    def speak(self, text: str) -> None:\n",
        "        \"\"\"Convierte texto a voz, compatible con Google Colab y entorno local.\"\"\"\n",
        "        try:\n",
        "            if self.in_colab:\n",
        "                # En Google Colab: usar gTTS\n",
        "                tts = gTTS(text=text, lang=self.language)\n",
        "                audio_buffer = io.BytesIO()\n",
        "                tts.write_to_fp(audio_buffer)\n",
        "                audio_buffer.seek(0)\n",
        "                display(Audio(audio_buffer.read(), autoplay=True))\n",
        "            elif hasattr(self, 'engine') and self.engine:\n",
        "                # En entorno local con pyttsx3\n",
        "                self.engine.say(text)\n",
        "                self.engine.runAndWait()\n",
        "            else:\n",
        "                raise RuntimeError(\"No hay motor TTS disponible.\")\n",
        "        except Exception as e:\n",
        "            print(f\"Error en TTS: {e}\")\n",
        "\n",
        "\n",
        "class BeautifulSoupWebScraper:\n",
        "    \"\"\"Implementación de web scraping usando BeautifulSoup\"\"\"\n",
        "\n",
        "    def __init__(self, timeout: int = 10, max_paragraphs: int = 3):\n",
        "        self.timeout = timeout\n",
        "        self.max_paragraphs = max_paragraphs\n",
        "        self.headers = {\n",
        "            'User-Agent': 'Mozilla/5.0 (Windows NT 10.0; Win64; x64) AppleWebKit/537.36'\n",
        "        }\n",
        "\n",
        "    def extract_content(self, url: str) -> str:\n",
        "        \"\"\"Extrae contenido de una página web\"\"\"\n",
        "        try:\n",
        "            response = requests.get(url, headers=self.headers, timeout=self.timeout)\n",
        "            response.raise_for_status()\n",
        "\n",
        "            soup = BeautifulSoup(response.content, 'html.parser')\n",
        "\n",
        "            # Extraer párrafos\n",
        "            paragraphs = soup.find_all('p')\n",
        "            text_content = []\n",
        "\n",
        "            for p in paragraphs[:self.max_paragraphs]:\n",
        "                text = p.get_text(strip=True)\n",
        "                if text:  # Solo agregar párrafos no vacíos\n",
        "                    text_content.append(text)\n",
        "\n",
        "            return ' '.join(text_content)\n",
        "\n",
        "        except requests.RequestException as e:\n",
        "            raise Exception(f\"Error al conectar con la URL: {e}\")\n",
        "        except Exception as e:\n",
        "            raise Exception(f\"Error al procesar el contenido: {e}\")\n",
        "\n"
      ],
      "metadata": {
        "id": "YhavJ37KNWk_"
      },
      "execution_count": null,
      "outputs": []
    },
    {
      "cell_type": "markdown",
      "source": [
        "### Clase especial para Imagen a Texto"
      ],
      "metadata": {
        "id": "ynH7imh5QNTV"
      }
    },
    {
      "cell_type": "code",
      "source": [
        "! lsb_release -a"
      ],
      "metadata": {
        "id": "4WUvfqI8QlZG"
      },
      "execution_count": null,
      "outputs": []
    },
    {
      "cell_type": "code",
      "source": [
        "# Ubuntu/Debian\n",
        "!sudo apt-get install tesseract-ocr tesseract-ocr-spa tesseract-ocr-eng espeak-ng\n",
        "\n",
        "# # CentOS/RHEL\n",
        "# !sudo yum install tesseract tesseract-langpack-spa tesseract-langpack-eng\n",
        "\n",
        "# # Arch Linux\n",
        "# !sudo pacman -S tesseract tesseract-data-spa tesseract-data-eng\n",
        "\n",
        "# # Fedora\n",
        "# !sudo dnf install tesseract tesseract-langpack-spa tesseract-langpack-eng"
      ],
      "metadata": {
        "id": "JEzIkVGaQfy4"
      },
      "execution_count": null,
      "outputs": []
    },
    {
      "cell_type": "code",
      "source": [
        "import os\n",
        "import platform\n",
        "import shutil\n",
        "from typing import Optional\n",
        "from io import BytesIO\n",
        "\n",
        "import pytesseract\n",
        "import requests\n",
        "from PIL import Image\n",
        "\n",
        "\n",
        "class TesseractOCR:\n",
        "    \"\"\"Implementación de OCR usando Tesseract con soporte opcional de TTS y carga desde URL\"\"\"\n",
        "\n",
        "    def __init__(self, language: str = 'spa+eng', config: str = '', tts_service: Optional[object] = None):\n",
        "        self.language = language\n",
        "        self.config = config\n",
        "        self.tts_service = tts_service  # Objeto con método speak()\n",
        "\n",
        "        self._configure_tesseract()\n",
        "        self._verify_tesseract_installation()\n",
        "\n",
        "    def _configure_tesseract(self):\n",
        "        system = platform.system().lower()\n",
        "\n",
        "        if system == 'linux':\n",
        "            paths = [\n",
        "                '/usr/bin/tesseract',\n",
        "                '/usr/local/bin/tesseract',\n",
        "                '/opt/tesseract/bin/tesseract',\n",
        "                shutil.which('tesseract')\n",
        "            ]\n",
        "        elif system == 'windows':\n",
        "            paths = [\n",
        "                r'C:\\Program Files\\Tesseract-OCR\\tesseract.exe',\n",
        "                r'C:\\Program Files (x86)\\Tesseract-OCR\\tesseract.exe',\n",
        "                r'C:\\tesseract\\tesseract.exe'\n",
        "            ]\n",
        "        elif system == 'darwin':\n",
        "            paths = [\n",
        "                '/opt/homebrew/bin/tesseract',\n",
        "                '/usr/local/bin/tesseract',\n",
        "                shutil.which('tesseract')\n",
        "            ]\n",
        "        else:\n",
        "            paths = [shutil.which('tesseract')]\n",
        "\n",
        "        for path in paths:\n",
        "            if path and os.path.exists(path):\n",
        "                pytesseract.pytesseract.tesseract_cmd = path\n",
        "                print(f\"Tesseract encontrado en: {path}\")\n",
        "                return\n",
        "\n",
        "        pytesseract.pytesseract.tesseract_cmd = 'tesseract'\n",
        "\n",
        "    def _verify_tesseract_installation(self):\n",
        "        try:\n",
        "            version = pytesseract.get_tesseract_version()\n",
        "            print(f\"Tesseract version: {version}\")\n",
        "            languages = pytesseract.get_languages()\n",
        "            print(f\"Idiomas disponibles: {languages}\")\n",
        "        except Exception as e:\n",
        "            print(\"Error: Tesseract no está instalado o no se encuentra en PATH\")\n",
        "            raise Exception(f\"Tesseract no disponible: {e}\")\n",
        "\n",
        "    def extract_text(self, image_path: str) -> str:\n",
        "        \"\"\"Extrae texto de una imagen local o URL\"\"\"\n",
        "        try:\n",
        "            img = self._load_image(image_path)\n",
        "            img = self._preprocess_image(img)\n",
        "\n",
        "            text = pytesseract.image_to_string(\n",
        "                img,\n",
        "                lang=self.language,\n",
        "                config=self._build_config()\n",
        "            ).strip()\n",
        "\n",
        "            if self.tts_service:\n",
        "                self.tts_service.speak(\"Texto extraído de la imagen.\")\n",
        "                self.tts_service.speak(text)\n",
        "\n",
        "            return text\n",
        "\n",
        "        except Exception as e:\n",
        "            raise Exception(f\"Error al procesar la imagen: {e}\")\n",
        "\n",
        "    def extract_text_with_confidence(self, image_path: str) -> dict:\n",
        "        \"\"\"Extrae texto con información de confianza desde imagen local o URL\"\"\"\n",
        "        try:\n",
        "            img = self._load_image(image_path)\n",
        "            img = self._preprocess_image(img)\n",
        "\n",
        "            data = pytesseract.image_to_data(\n",
        "                img,\n",
        "                lang=self.language,\n",
        "                config=self._build_config(),\n",
        "                output_type=pytesseract.Output.DICT\n",
        "            )\n",
        "\n",
        "            confidences = [int(conf) for conf in data['conf'] if conf.isdigit()]\n",
        "            avg_confidence = sum(confidences) / len(confidences) if confidences else 0\n",
        "            text = ' '.join([word for word in data['text'] if word.strip()])\n",
        "\n",
        "            if self.tts_service:\n",
        "                self.tts_service.speak(\"Texto extraído con confianza.\")\n",
        "                self.tts_service.speak(text)\n",
        "\n",
        "            return {\n",
        "                'text': text,\n",
        "                'confidence': avg_confidence,\n",
        "                'word_count': len([word for word in data['text'] if word.strip()])\n",
        "            }\n",
        "\n",
        "        except Exception as e:\n",
        "            raise Exception(f\"Error al procesar imagen con confianza: {e}\")\n",
        "\n",
        "    def _load_image(self, path_or_url: str) -> Image.Image:\n",
        "        \"\"\"Carga una imagen desde ruta local o URL\"\"\"\n",
        "        try:\n",
        "            if path_or_url.startswith(\"http://\") or path_or_url.startswith(\"https://\"):\n",
        "                response = requests.get(path_or_url)\n",
        "                response.raise_for_status()\n",
        "                return Image.open(BytesIO(response.content))\n",
        "            else:\n",
        "                if not os.path.exists(path_or_url):\n",
        "                    raise FileNotFoundError(f\"No se encontró la imagen: {path_or_url}\")\n",
        "                return Image.open(path_or_url)\n",
        "        except Exception as e:\n",
        "            raise Exception(f\"No se pudo cargar la imagen: {e}\")\n",
        "\n",
        "    def _preprocess_image(self, img: Image.Image) -> Image.Image:\n",
        "        width, height = img.size\n",
        "        if width < 300 or height < 300:\n",
        "            scale_factor = max(300 / width, 300 / height)\n",
        "            img = img.resize((int(width * scale_factor), int(height * scale_factor)), Image.Resampling.LANCZOS)\n",
        "        return img\n",
        "\n",
        "    def _build_config(self) -> str:\n",
        "        base = '--oem 3 --psm 6'\n",
        "        return f\"{base} {self.config}\" if self.config else base\n",
        "\n",
        "    def get_available_languages(self) -> list:\n",
        "        try:\n",
        "            return pytesseract.get_languages()\n",
        "        except Exception as e:\n",
        "            print(f\"Error al obtener idiomas: {e}\")\n",
        "            return []\n"
      ],
      "metadata": {
        "id": "b8vcpcJvQAHc"
      },
      "execution_count": null,
      "outputs": []
    },
    {
      "cell_type": "code",
      "source": [
        "# Clase principal del asistente con inyección de dependencias\n",
        "class AsistenteVirtual:\n",
        "    \"\"\"Asistente virtual que utiliza inyección de dependencias\"\"\"\n",
        "\n",
        "    def __init__(\n",
        "        self,\n",
        "        tts_service: Optional[PyttxGTTSTextToSpeech] = None,\n",
        "        ocr_service: Optional[OCRInterface] = None,\n",
        "        web_scraper: Optional[WebScrapingInterface] = None\n",
        "    ):\n",
        "        self.tts_service = tts_service\n",
        "        self.ocr_service = ocr_service\n",
        "        self.web_scraper = web_scraper\n",
        "\n",
        "    def hablar(self, texto: str) -> None:\n",
        "        \"\"\"Hace que el asistente hable\"\"\"\n",
        "        print(\"Asistente:\", texto)\n",
        "        self.tts_service.speak(texto)\n",
        "\n",
        "    def texto_a_voz(self, texto: str) -> None:\n",
        "        \"\"\"Convierte texto a voz\"\"\"\n",
        "        self.hablar(texto)\n",
        "\n",
        "    def imagen_a_texto(self, path_imagen: str) -> None:\n",
        "        \"\"\"Extrae texto de una imagen y lo lee en voz alta\"\"\"\n",
        "        if not self.ocr_service:\n",
        "            self.hablar(\"Servicio OCR no disponible\")\n",
        "            return\n",
        "\n",
        "        try:\n",
        "            texto = self.ocr_service.extract_text(path_imagen)\n",
        "            if texto:\n",
        "                self.hablar(\"Texto extraído:\")\n",
        "                print(f\"Texto extraído: {texto}\")\n",
        "                self.hablar(texto)\n",
        "            else:\n",
        "                self.hablar(\"No se pudo extraer texto de la imagen\")\n",
        "        except Exception as e:\n",
        "            self.hablar(\"No pude procesar la imagen\")\n",
        "            print(f\"Error: {e}\")\n",
        "\n",
        "    def extraer_info_web(self, url: str) -> None:\n",
        "        \"\"\"Extrae información de una página web y la lee\"\"\"\n",
        "        if not self.web_scraper:\n",
        "            self.hablar(\"Servicio de web scraping no disponible\")\n",
        "            return\n",
        "\n",
        "        try:\n",
        "            contenido = self.web_scraper.extract_content(url)\n",
        "            if contenido:\n",
        "                self.hablar(\"Información de la página:\")\n",
        "                print(f\"Contenido extraído: {contenido}\")\n",
        "                self.hablar(contenido)\n",
        "            else:\n",
        "                self.hablar(\"No se pudo extraer contenido de la página\")\n",
        "        except Exception as e:\n",
        "            self.hablar(\"Error al conectarme a la web\")\n",
        "            print(f\"Error: {e}\")\n"
      ],
      "metadata": {
        "id": "PWKW77bzuXKr"
      },
      "execution_count": null,
      "outputs": []
    },
    {
      "cell_type": "markdown",
      "source": [
        "## Asistente de Voz"
      ],
      "metadata": {
        "id": "mcR1nmF2RPEn"
      }
    },
    {
      "cell_type": "code",
      "source": [
        "asistente_voz = AsistenteVirtual(tts_service=PyttxGTTSTextToSpeech())\n",
        "asistente_voz.hablar(\"Lulu menea la patita, menea la colita, mueve las alitas y se da una vueltecita\")"
      ],
      "metadata": {
        "id": "XtVAKZc8SiC2"
      },
      "execution_count": null,
      "outputs": []
    },
    {
      "cell_type": "code",
      "source": [
        "asistente_texto = AsistenteVirtual(\n",
        "    ocr_service=TesseractOCR(language='spa+eng'),\n",
        "    tts_service=PyttxGTTSTextToSpeech())"
      ],
      "metadata": {
        "id": "hQf2RwPTslyK"
      },
      "execution_count": null,
      "outputs": []
    },
    {
      "cell_type": "code",
      "source": [
        "# path_url = \"https://s1.significados.com/foto/texto-expositivo-is-cke.jpg\"\n",
        "path_url = \"https://es-static.z-dn.net/files/d09/5690a0badfd8c9544587825154a38380.png\"\n",
        "asistente_texto.imagen_a_texto(path_url)"
      ],
      "metadata": {
        "id": "HMoOmAmes_Ub"
      },
      "execution_count": null,
      "outputs": []
    },
    {
      "cell_type": "code",
      "source": [
        "asistente_web = AsistenteVirtual(\n",
        "    # ocr_service=TesseractOCR(language='spa+eng'),\n",
        "    tts_service=PyttxGTTSTextToSpeech(),\n",
        "    web_scraper=BeautifulSoupWebScraper()\n",
        "    )\n"
      ],
      "metadata": {
        "id": "o78hTmuL7onK"
      },
      "execution_count": null,
      "outputs": []
    },
    {
      "cell_type": "code",
      "source": [
        "asistente_web.extraer_info_web(url=\"https://en.wikipedia.org/wiki/Haversian_canal\")"
      ],
      "metadata": {
        "id": "Z3TqtAuV8uJY"
      },
      "execution_count": null,
      "outputs": []
    }
  ]
}