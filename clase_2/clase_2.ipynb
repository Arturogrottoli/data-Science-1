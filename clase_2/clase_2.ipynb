{
  "nbformat": 4,
  "nbformat_minor": 0,
  "metadata": {
    "colab": {
      "provenance": [],
      "authorship_tag": "ABX9TyOcwzRDg5b7Jhl69MFFDWbc",
      "include_colab_link": true
    },
    "kernelspec": {
      "name": "python3",
      "display_name": "Python 3"
    },
    "language_info": {
      "name": "python"
    }
  },
  "cells": [
    {
      "cell_type": "markdown",
      "metadata": {
        "id": "view-in-github",
        "colab_type": "text"
      },
      "source": [
        "<a href=\"https://colab.research.google.com/github/Andru-1987/74235-_DataScience_I/blob/main/clase_2/clase_2.ipynb\" target=\"_parent\"><img src=\"https://colab.research.google.com/assets/colab-badge.svg\" alt=\"Open In Colab\"/></a>"
      ]
    },
    {
      "cell_type": "code",
      "execution_count": 43,
      "metadata": {
        "colab": {
          "base_uri": "https://localhost:8080/"
        },
        "id": "btGOgf0L8piT",
        "outputId": "072b7372-9aa0-40eb-92aa-1a5b88d208a9"
      },
      "outputs": [
        {
          "output_type": "stream",
          "name": "stdout",
          "text": [
            "Hola, mundo\n"
          ]
        }
      ],
      "source": [
        "print(\"Hola, mundo\")"
      ]
    },
    {
      "cell_type": "code",
      "source": [
        "nombre = input(\"ingrese tu nombre\")"
      ],
      "metadata": {
        "colab": {
          "base_uri": "https://localhost:8080/"
        },
        "id": "s5sOy6AK_Qhu",
        "outputId": "47923ed3-2399-4d79-94f9-e49f472f7a31"
      },
      "execution_count": 44,
      "outputs": [
        {
          "name": "stdout",
          "output_type": "stream",
          "text": [
            "ingrese tu nombrejuanito\n"
          ]
        }
      ]
    },
    {
      "cell_type": "code",
      "source": [
        "print(nombre)"
      ],
      "metadata": {
        "colab": {
          "base_uri": "https://localhost:8080/"
        },
        "id": "I_jMnPWS_oDi",
        "outputId": "fe7c2899-5258-40d6-834a-d13dc879b8f6"
      },
      "execution_count": 45,
      "outputs": [
        {
          "output_type": "stream",
          "name": "stdout",
          "text": [
            "juanito\n"
          ]
        }
      ]
    },
    {
      "cell_type": "code",
      "source": [
        "nombre = 129.99"
      ],
      "metadata": {
        "id": "qwrIun9dALOK"
      },
      "execution_count": 46,
      "outputs": []
    },
    {
      "cell_type": "code",
      "source": [
        "print(nombre)"
      ],
      "metadata": {
        "colab": {
          "base_uri": "https://localhost:8080/"
        },
        "id": "zanLBBbMAQWM",
        "outputId": "21663008-fc6f-4ee9-d5a1-0dd4841681ec"
      },
      "execution_count": 47,
      "outputs": [
        {
          "output_type": "stream",
          "name": "stdout",
          "text": [
            "129.99\n"
          ]
        }
      ]
    },
    {
      "cell_type": "markdown",
      "source": [
        "---"
      ],
      "metadata": {
        "id": "_mLSW8DcBABS"
      }
    },
    {
      "cell_type": "code",
      "source": [
        "lista_de_nombres = \"\"\"\n",
        "1.  Hugo\n",
        "2.  Martín\n",
        "3.  Lucas\n",
        "4.  Mateo\n",
        "5.  Leo\n",
        "6.  Daniel\n",
        "7.  Alejandro\n",
        "8.  Pablo\n",
        "9.  Manuel\n",
        "10.  Álvaro\n",
        "11.  Adrián\n",
        "12.  David\n",
        "13.  Mario\n",
        "\"\"\"\n",
        "\n",
        "lista_de_nombres"
      ],
      "metadata": {
        "colab": {
          "base_uri": "https://localhost:8080/",
          "height": 35
        },
        "id": "bTfvQyZ1AlHI",
        "outputId": "2a165226-ac9e-44fd-e71f-42357ac47c4d"
      },
      "execution_count": 48,
      "outputs": [
        {
          "output_type": "execute_result",
          "data": {
            "text/plain": [
              "'\\n1.  Hugo \\n2.  Martín \\n3.  Lucas \\n4.  Mateo \\n5.  Leo \\n6.  Daniel \\n7.  Alejandro \\n8.  Pablo \\n9.  Manuel\\n10.  Álvaro \\n11.  Adrián \\n12.  David \\n13.  Mario \\n'"
            ],
            "application/vnd.google.colaboratory.intrinsic+json": {
              "type": "string"
            }
          },
          "metadata": {},
          "execution_count": 48
        }
      ]
    },
    {
      "cell_type": "code",
      "source": [
        "lista_cleaned = lista_de_nombres.split(\"\\n\")\n",
        "lista_cleaned"
      ],
      "metadata": {
        "colab": {
          "base_uri": "https://localhost:8080/"
        },
        "id": "Ks4ozQsYBhyZ",
        "outputId": "0063b11d-6abc-4789-9b43-19545bea14ac"
      },
      "execution_count": 49,
      "outputs": [
        {
          "output_type": "execute_result",
          "data": {
            "text/plain": [
              "['',\n",
              " '1.  Hugo ',\n",
              " '2.  Martín ',\n",
              " '3.  Lucas ',\n",
              " '4.  Mateo ',\n",
              " '5.  Leo ',\n",
              " '6.  Daniel ',\n",
              " '7.  Alejandro ',\n",
              " '8.  Pablo ',\n",
              " '9.  Manuel',\n",
              " '10.  Álvaro ',\n",
              " '11.  Adrián ',\n",
              " '12.  David ',\n",
              " '13.  Mario ',\n",
              " '']"
            ]
          },
          "metadata": {},
          "execution_count": 49
        }
      ]
    },
    {
      "cell_type": "code",
      "source": [
        "lista_completamente_limpia = []"
      ],
      "metadata": {
        "id": "40A0XTt5ERc2"
      },
      "execution_count": 56,
      "outputs": []
    },
    {
      "cell_type": "code",
      "source": [
        "def limpiador_de_texto(nombre_corregir, lista_output):\n",
        "    if nombre_corregir != \"\":\n",
        "        solo_nombre = nombre_corregir.split(\"  \")[1]\n",
        "        solo_nombre_no_spaces = solo_nombre.strip().lower()\n",
        "        lista_output.append(solo_nombre_no_spaces)\n"
      ],
      "metadata": {
        "id": "HzIrpoe2JFfV"
      },
      "execution_count": 57,
      "outputs": []
    },
    {
      "cell_type": "code",
      "source": [
        "for name in lista_cleaned:\n",
        "    # if name  == \"\":\n",
        "    #     print(\"este elemnto es vacio\")\n",
        "    # else:\n",
        "    #     solo_nombre = name.split(\"  \")[1]\n",
        "    #     solo_nombre_no_spaces = solo_nombre.strip().lower()\n",
        "    #     lista_completamente_limpia.append(solo_nombre_no_spaces)\n",
        "    # if name != \"\":\n",
        "    #     solo_nombre = name.split(\"  \")[1]\n",
        "    #     solo_nombre_no_spaces = solo_nombre.strip().lower()\n",
        "    #     lista_completamente_limpia.append(solo_nombre_no_spaces)\n",
        "\n",
        "    limpiador_de_texto(name,lista_completamente_limpia)"
      ],
      "metadata": {
        "id": "1mRCNmssCmWU"
      },
      "execution_count": 58,
      "outputs": []
    },
    {
      "cell_type": "code",
      "source": [
        "lista_completamente_limpia"
      ],
      "metadata": {
        "colab": {
          "base_uri": "https://localhost:8080/"
        },
        "id": "NX0bYM5aKflZ",
        "outputId": "578d2082-c600-4100-a930-295506690d47"
      },
      "execution_count": 59,
      "outputs": [
        {
          "output_type": "execute_result",
          "data": {
            "text/plain": [
              "['hugo',\n",
              " 'martín',\n",
              " 'lucas',\n",
              " 'mateo',\n",
              " 'leo',\n",
              " 'daniel',\n",
              " 'alejandro',\n",
              " 'pablo',\n",
              " 'manuel',\n",
              " 'álvaro',\n",
              " 'adrián',\n",
              " 'david',\n",
              " 'mario']"
            ]
          },
          "metadata": {},
          "execution_count": 59
        }
      ]
    },
    {
      "cell_type": "code",
      "source": [
        "karla_negocio_nombres = []"
      ],
      "metadata": {
        "id": "n1vtel8RKl1f"
      },
      "execution_count": 73,
      "outputs": []
    },
    {
      "cell_type": "code",
      "source": [
        "new_lista_nombre_karla = \"\"\"\n",
        "101.  Abel\n",
        "102.  Adrián\n",
        "103.  Alejandro\n",
        "104.  Ángel\n",
        "105.  Carlos\n",
        "106.  César\n",
        "107.  Bruno\n",
        "108.  Daniel\n",
        "109.  Darío\n",
        "110.  David\n",
        "111.  Diego\n",
        "112.  Emilio\n",
        "113.  Fabián\n",
        "114.  Felipe\n",
        "115.  Gabriel\n",
        "116.  Héctor\n",
        "117.  Hugo\n",
        "118.  Jacobo\n",
        "119.  Jaime\n",
        "120.  Joaquín\n",
        "121.  Juan\n",
        "122.  Leonardo\n",
        "123.  Leo\n",
        "124.  Lucas\n",
        "125.  Marcos\n",
        "126.  Martín\n",
        "127.  Mateo\n",
        "128.  Matías\n",
        "129.  Miguel\n",
        "130.  Nicolás\n",
        "131.  Pablo\n",
        "132.  Raúl\n",
        "133.  Samuel\n",
        "134.  Santiago\n",
        "135.  Sebastián\n",
        "136.  Tomás\n",
        "137.  Tristán\n",
        "138.  Joan\n",
        "139.  Andrés\n",
        "140.  Ricardo\n",
        "141.  Manuel\n",
        "142.  Ezequiel\n",
        "143.  Francisco\n",
        "144.  Elías\n",
        "145.  Blas\n",
        "146.  Alfonso\n",
        "147.  Ulises\n",
        "148.  Gerardo\n",
        "149.  Alfredo\n",
        "150.  Álvaro\n",
        "151.  Amadeo\n",
        "152.  Amancio\n",
        "153.  Antonio\n",
        "154.  Baltasar\n",
        "155.  Beltrán\n",
        "156.  Benito\n",
        "157.  Rufino\n",
        "158.  Boris\n",
        "159.  Camilo\n",
        "160.  Ciro\n",
        "161.  Conrado\n",
        "\"\"\"\n",
        "\n",
        "new_lista_nombre_karla = new_lista_nombre_karla.split(\"\\n\")\n",
        "print(new_lista_nombre_karla)\n"
      ],
      "metadata": {
        "colab": {
          "base_uri": "https://localhost:8080/"
        },
        "id": "u9xumF6zIyrx",
        "outputId": "12056343-09b2-4b18-eb6f-4758823eee7e"
      },
      "execution_count": 74,
      "outputs": [
        {
          "output_type": "stream",
          "name": "stdout",
          "text": [
            "['', '101.  Abel  ', '102.  Adrián  ', '103.  Alejandro  ', '104.  Ángel  ', '105.  Carlos  ', '106.  César  ', '107.  Bruno  ', '108.  Daniel  ', '109.  Darío  ', '110.  David  ', '111.  Diego  ', '112.  Emilio  ', '113.  Fabián  ', '114.  Felipe  ', '115.  Gabriel  ', '116.  Héctor  ', '117.  Hugo  ', '118.  Jacobo  ', '119.  Jaime  ', '120.  Joaquín  ', '121.  Juan  ', '122.  Leonardo  ', '123.  Leo  ', '124.  Lucas  ', '125.  Marcos  ', '126.  Martín  ', '127.  Mateo  ', '128.  Matías  ', '129.  Miguel  ', '130.  Nicolás  ', '131.  Pablo  ', '132.  Raúl  ', '133.  Samuel  ', '134.  Santiago  ', '135.  Sebastián  ', '136.  Tomás  ', '137.  Tristán  ', '138.  Joan  ', '139.  Andrés  ', '140.  Ricardo  ', '141.  Manuel  ', '142.  Ezequiel  ', '143.  Francisco  ', '144.  Elías  ', '145.  Blas  ', '146.  Alfonso  ', '147.  Ulises  ', '148.  Gerardo  ', '149.  Alfredo  ', '150.  Álvaro  ', '151.  Amadeo  ', '152.  Amancio  ', '153.  Antonio  ', '154.  Baltasar  ', '155.  Beltrán  ', '156.  Benito  ', '157.  Rufino  ', '158.  Boris  ', '159.  Camilo  ', '160.  Ciro  ', '161.  Conrado  ', '']\n"
          ]
        }
      ]
    },
    {
      "cell_type": "code",
      "source": [
        "for karla_name in new_lista_nombre_karla:\n",
        "    limpiador_de_texto(karla_name,karla_negocio_nombres)"
      ],
      "metadata": {
        "id": "WQkBPInPKsfY"
      },
      "execution_count": 66,
      "outputs": []
    },
    {
      "cell_type": "code",
      "source": [
        "karla_negocio_nombres"
      ],
      "metadata": {
        "colab": {
          "base_uri": "https://localhost:8080/"
        },
        "id": "-TOUxYEjK4sV",
        "outputId": "84460aaa-02d1-469c-f966-221417f1b0f6"
      },
      "execution_count": 67,
      "outputs": [
        {
          "output_type": "execute_result",
          "data": {
            "text/plain": [
              "['abel',\n",
              " 'adrián',\n",
              " 'alejandro',\n",
              " 'ángel',\n",
              " 'carlos',\n",
              " 'césar',\n",
              " 'bruno',\n",
              " 'daniel',\n",
              " 'darío',\n",
              " 'david',\n",
              " 'diego',\n",
              " 'emilio',\n",
              " 'fabián',\n",
              " 'felipe',\n",
              " 'gabriel',\n",
              " 'héctor',\n",
              " 'hugo',\n",
              " 'jacobo',\n",
              " 'jaime',\n",
              " 'joaquín',\n",
              " 'juan',\n",
              " 'leonardo',\n",
              " 'leo',\n",
              " 'lucas',\n",
              " 'marcos',\n",
              " 'martín',\n",
              " 'mateo',\n",
              " 'matías',\n",
              " 'miguel',\n",
              " 'nicolás',\n",
              " 'pablo',\n",
              " 'raúl',\n",
              " 'samuel',\n",
              " 'santiago',\n",
              " 'sebastián',\n",
              " 'tomás',\n",
              " 'tristán',\n",
              " 'joan',\n",
              " 'andrés',\n",
              " 'ricardo',\n",
              " 'manuel',\n",
              " 'ezequiel',\n",
              " 'francisco',\n",
              " 'elías',\n",
              " 'blas',\n",
              " 'alfonso',\n",
              " 'ulises',\n",
              " 'gerardo',\n",
              " 'alfredo',\n",
              " 'álvaro',\n",
              " 'amadeo',\n",
              " 'amancio',\n",
              " 'antonio',\n",
              " 'baltasar',\n",
              " 'beltrán',\n",
              " 'benito',\n",
              " 'rufino',\n",
              " 'boris',\n",
              " 'camilo',\n",
              " 'ciro',\n",
              " 'conrado']"
            ]
          },
          "metadata": {},
          "execution_count": 67
        }
      ]
    },
    {
      "cell_type": "code",
      "source": [
        "class LimpiadorTexto:\n",
        "\n",
        "    def __init__(self, texto_limpiar):\n",
        "        self.texto = texto_limpiar\n",
        "        self.texto_limpio = []\n",
        "\n",
        "    def split_texto(self):\n",
        "        self.texto = self.texto.split(\"\\n\")\n",
        "\n",
        "    def _limpiador_de_texto(self, text):\n",
        "        if text != \"\":\n",
        "            solo_nombre = text.split(\"  \")[1]\n",
        "            solo_nombre_no_spaces = solo_nombre.strip().lower()\n",
        "            self.texto_limpio.append(solo_nombre_no_spaces)\n",
        "\n",
        "    def limpiar_all_text(self):\n",
        "        self.split_texto()\n",
        "        for text in self.texto:\n",
        "            self._limpiador_de_texto(text)\n",
        "\n",
        "\n",
        "    def execute(self):\n",
        "        self.limpiar_all_text()\n",
        "        return self.texto_limpio\n",
        "\n",
        "\n",
        "    def execute_no_repeat(self):\n",
        "        return set(self.texto_limpio)"
      ],
      "metadata": {
        "id": "kjwLxhvLMMTF"
      },
      "execution_count": 90,
      "outputs": []
    },
    {
      "cell_type": "code",
      "source": [
        "new_lista_nombre_karla = \"\"\"\n",
        "101.  Abel\n",
        "102.  Adrián\n",
        "103.  Alejandro\n",
        "104.  Ángel\n",
        "105.  Carlos\n",
        "106.  César\n",
        "107.  Bruno\n",
        "108.  Daniel\n",
        "109.  Darío\n",
        "110.  David\n",
        "111.  Diego\n",
        "112.  Emilio\n",
        "113.  Fabián\n",
        "114.  Felipe\n",
        "115.  Gabriel\n",
        "116.  Héctor\n",
        "117.  Hugo\n",
        "118.  Jacobo\n",
        "119.  Jaime\n",
        "120.  Joaquín\n",
        "121.  Juan\n",
        "122.  Leonardo\n",
        "123.  Leo\n",
        "124.  Lucas\n",
        "125.  Marcos\n",
        "126.  Martín\n",
        "127.  Mateo\n",
        "128.  Matías\n",
        "129.  Miguel\n",
        "130.  Nicolás\n",
        "131.  Pablo\n",
        "132.  Raúl\n",
        "133.  Samuel\n",
        "134.  Santiago\n",
        "135.  Sebastián\n",
        "136.  Tomás\n",
        "137.  Tristán\n",
        "138.  Joan\n",
        "139.  Andrés\n",
        "140.  Ricardo\n",
        "141.  Manuel\n",
        "142.  Ezequiel\n",
        "143.  Francisco\n",
        "144.  Elías\n",
        "145.  Blas\n",
        "146.  Alfonso\n",
        "147.  Ulises\n",
        "148.  Gerardo\n",
        "132.  Raúl\n",
        "149.  Alfredo\n",
        "150.  Álvaro\n",
        "151.  Amadeo\n",
        "152.  Amancio\n",
        "153.  Antonio\n",
        "154.  Baltasar\n",
        "155.  Beltrán\n",
        "156.  Benito\n",
        "157.  Rufino\n",
        "158.  Boris\n",
        "159.  Camilo\n",
        "160.  Ciro\n",
        "161.  Conrado\n",
        "\"\"\""
      ],
      "metadata": {
        "id": "Xb6JiONkPpMS"
      },
      "execution_count": 91,
      "outputs": []
    },
    {
      "cell_type": "code",
      "source": [
        "cleaner_karla = LimpiadorTexto(new_lista_nombre_karla)"
      ],
      "metadata": {
        "id": "p3oq_uN2PDp_"
      },
      "execution_count": 93,
      "outputs": []
    },
    {
      "cell_type": "code",
      "source": [
        "lista_nueva_prod = cleaner_karla.execute()"
      ],
      "metadata": {
        "id": "JHTYks9APTqe"
      },
      "execution_count": 94,
      "outputs": []
    },
    {
      "cell_type": "code",
      "source": [
        "print(len(lista_nueva_prod))"
      ],
      "metadata": {
        "colab": {
          "base_uri": "https://localhost:8080/"
        },
        "id": "bwuH45ZtPtEh",
        "outputId": "1d3cdb89-71c5-421f-e2f0-3f97662cf3fb"
      },
      "execution_count": 98,
      "outputs": [
        {
          "output_type": "stream",
          "name": "stdout",
          "text": [
            "62\n"
          ]
        }
      ]
    },
    {
      "cell_type": "code",
      "source": [
        "print(len(cleaner_karla.execute_no_repeat()))"
      ],
      "metadata": {
        "colab": {
          "base_uri": "https://localhost:8080/"
        },
        "id": "D4EKFNuIQ6K_",
        "outputId": "c54b3bc1-c7ef-45ee-e840-6dd2019670fe"
      },
      "execution_count": 99,
      "outputs": [
        {
          "output_type": "stream",
          "name": "stdout",
          "text": [
            "61\n"
          ]
        }
      ]
    }
  ]
}